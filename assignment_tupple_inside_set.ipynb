{
 "cells": [
  {
   "cell_type": "code",
   "execution_count": 32,
   "metadata": {},
   "outputs": [
    {
     "name": "stdout",
     "output_type": "stream",
     "text": [
      "How many tuples?:3\n",
      "Enter 1st number in tuple 1: 1\n",
      "Enter 2nd number in tuple 1: 2\n",
      "Enter 3rd number in tuple 1: 3\n",
      "Enter 1st number in tuple 2: 2\n",
      "Enter 2nd number in tuple 2: 3\n",
      "Enter 3rd number in tuple 2: 4\n",
      "Enter 1st number in tuple 3: 4\n",
      "Enter 2nd number in tuple 3: 5\n",
      "Enter 3rd number in tuple 3: 6\n",
      "{(1, 2, 3), (2, 3, 4), (4, 5, 6)}\n"
     ]
    }
   ],
   "source": [
    "#Assignment to read numbers from user and use them to create tuple inside set\n",
    "s=set()\n",
    "elem=('st','nd','rd')\n",
    "n=int(input(\"How many tuples?:\"))\n",
    "for i in range(n):\n",
    "    t=()\n",
    "    #Assume each tuple has 3 elements\n",
    "    for j in range(3):\n",
    "        b=int(input(f\"Enter {j+1}{elem[j]} number in tuple {i+1}: \"))\n",
    "        t=t+(b,)\n",
    "    s.add(t)\n",
    "print(s)\n",
    "        "
   ]
  }
 ],
 "metadata": {
  "kernelspec": {
   "display_name": "Python 3",
   "language": "python",
   "name": "python3"
  },
  "language_info": {
   "codemirror_mode": {
    "name": "ipython",
    "version": 3
   },
   "file_extension": ".py",
   "mimetype": "text/x-python",
   "name": "python",
   "nbconvert_exporter": "python",
   "pygments_lexer": "ipython3",
   "version": "3.8.5"
  }
 },
 "nbformat": 4,
 "nbformat_minor": 4
}
